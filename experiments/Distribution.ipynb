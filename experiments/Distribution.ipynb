{
 "cells": [
  {
   "cell_type": "markdown",
   "metadata": {},
   "source": [
    "# Notebook to balance corpus"
   ]
  },
  {
   "cell_type": "code",
   "execution_count": 38,
   "metadata": {},
   "outputs": [],
   "source": [
    "import setup_corpus"
   ]
  },
  {
   "cell_type": "code",
   "execution_count": 43,
   "metadata": {},
   "outputs": [
    {
     "name": "stderr",
     "output_type": "stream",
     "text": [
      "[nltk_data] Downloading package treebank to\n",
      "[nltk_data]     /Users/pratheek/nltk_data...\n",
      "[nltk_data]   Unzipping corpora/treebank.zip.\n"
     ]
    }
   ],
   "source": [
    "import random\n",
    "import pandas as pd\n",
    "import nltk\n",
    "from nltk.corpus import treebank\n",
    "nltk.download('treebank')\n",
    "categories = ('extended_description', 'extended_installation', 'extended_invocation', 'extended_citation')\n",
    "\n",
    "\n",
    "def build_corpora():\n",
    "    corpora = {}\n",
    "    for cat in categories:\n",
    "        corpora[cat] = build_corpus(cat)\n",
    "    return corpora\n",
    "\n",
    "def build_corpus(selected_category):\n",
    "    categories_df = {cat : pd.read_csv(f\"./training_corpus/{cat}.csv\") for cat in categories}\n",
    "    negative_sample_size = int(len(categories_df[selected_category]) / 4)\n",
    "    print(f\"Selected Category: {selected_category}\")\n",
    "    for category in categories_df:\n",
    "        categories_df[category].drop('URL', 1, inplace=True)\n",
    "        if category != selected_category:\n",
    "            categories_df[category] = categories_df[category].sample(negative_sample_size)\n",
    "        categories_df[category] = categories_df[category].assign(**{selected_category: category == selected_category})\n",
    "        print(\"{} has {} samples;\".format(category, len(categories_df[category])))\n",
    "        #print(categories_df[category].head())\n",
    "    treebank_background = pd.DataFrame(map(lambda sent: ' '.join(sent), random.sample(list(treebank.sents()), negative_sample_size)), columns=[\"excerpt\"]).assign(description=False)\n",
    "    #print(\"Treebank has {} samples.\".format(len(treebank_background)))\n",
    "    #print(\"categories_df\")\n",
    "    corpus = pd.concat(categories_df.values(), ignore_index=True, sort=False)\n",
    "    corpus.append(treebank_background, ignore_index=True, sort=False)\n",
    "    corpus.fillna(value='', inplace=True)\n",
    "    return corpus\n",
    "    \n"
   ]
  },
  {
   "cell_type": "code",
   "execution_count": 46,
   "metadata": {},
   "outputs": [
    {
     "name": "stdout",
     "output_type": "stream",
     "text": [
      "Selected Category: extended_description\n",
      "extended_description has 414 samples;\n",
      "extended_installation has 103 samples;\n",
      "extended_invocation has 103 samples;\n",
      "extended_citation has 103 samples;\n",
      "Selected Category: extended_installation\n",
      "extended_description has 274 samples;\n",
      "extended_installation has 1097 samples;\n",
      "extended_invocation has 274 samples;\n",
      "extended_citation has 274 samples;\n",
      "Selected Category: extended_invocation\n",
      "extended_description has 381 samples;\n",
      "extended_installation has 381 samples;\n",
      "extended_invocation has 1524 samples;\n",
      "extended_citation has 381 samples;\n",
      "Selected Category: extended_citation\n",
      "extended_description has 108 samples;\n",
      "extended_installation has 108 samples;\n",
      "extended_invocation has 108 samples;\n",
      "extended_citation has 433 samples;\n"
     ]
    }
   ],
   "source": [
    "corpus =build_corpora()"
   ]
  },
  {
   "cell_type": "code",
   "execution_count": 77,
   "metadata": {},
   "outputs": [
    {
     "data": {
      "text/html": [
       "<div>\n",
       "<style scoped>\n",
       "    .dataframe tbody tr th:only-of-type {\n",
       "        vertical-align: middle;\n",
       "    }\n",
       "\n",
       "    .dataframe tbody tr th {\n",
       "        vertical-align: top;\n",
       "    }\n",
       "\n",
       "    .dataframe thead th {\n",
       "        text-align: right;\n",
       "    }\n",
       "</style>\n",
       "<table border=\"1\" class=\"dataframe\">\n",
       "  <thead>\n",
       "    <tr style=\"text-align: right;\">\n",
       "      <th></th>\n",
       "      <th>contributor</th>\n",
       "      <th>excerpt</th>\n",
       "      <th>extended_installation</th>\n",
       "    </tr>\n",
       "  </thead>\n",
       "  <tbody>\n",
       "    <tr>\n",
       "      <th>0</th>\n",
       "      <td>Allen Mao</td>\n",
       "      <td>Sandbox</td>\n",
       "      <td>False</td>\n",
       "    </tr>\n",
       "    <tr>\n",
       "      <th>1</th>\n",
       "      <td>Rosna Thomas</td>\n",
       "      <td>Nextflow is a bioinformatics workflow manager ...</td>\n",
       "      <td>False</td>\n",
       "    </tr>\n",
       "    <tr>\n",
       "      <th>2</th>\n",
       "      <td>Allen Mao</td>\n",
       "      <td>Lithology and stratigraphic logs for wells and...</td>\n",
       "      <td>False</td>\n",
       "    </tr>\n",
       "    <tr>\n",
       "      <th>3</th>\n",
       "      <td>Allen Mao</td>\n",
       "      <td>If you give it all of OpenStreetMap and zoom o...</td>\n",
       "      <td>False</td>\n",
       "    </tr>\n",
       "    <tr>\n",
       "      <th>4</th>\n",
       "      <td>Pratheek</td>\n",
       "      <td>Text classifiers</td>\n",
       "      <td>False</td>\n",
       "    </tr>\n",
       "    <tr>\n",
       "      <th>...</th>\n",
       "      <td>...</td>\n",
       "      <td>...</td>\n",
       "      <td>...</td>\n",
       "    </tr>\n",
       "    <tr>\n",
       "      <th>1914</th>\n",
       "      <td>Allen Mao</td>\n",
       "      <td>If you use Detectron in your research or wish ...</td>\n",
       "      <td>False</td>\n",
       "    </tr>\n",
       "    <tr>\n",
       "      <th>1915</th>\n",
       "      <td>Ling Li</td>\n",
       "      <td>year = {2016}</td>\n",
       "      <td>False</td>\n",
       "    </tr>\n",
       "    <tr>\n",
       "      <th>1916</th>\n",
       "      <td>Allen Mao</td>\n",
       "      <td>title = {Iterative Visual Reasoning Beyond Con...</td>\n",
       "      <td>False</td>\n",
       "    </tr>\n",
       "    <tr>\n",
       "      <th>1917</th>\n",
       "      <td>Allen Mao</td>\n",
       "      <td>[Kamb1956]Kamb, 1959. Ice Petrofabric Observat...</td>\n",
       "      <td>False</td>\n",
       "    </tr>\n",
       "    <tr>\n",
       "      <th>1918</th>\n",
       "      <td>Ling Li</td>\n",
       "      <td>year = {2019}</td>\n",
       "      <td>False</td>\n",
       "    </tr>\n",
       "  </tbody>\n",
       "</table>\n",
       "<p>1919 rows × 3 columns</p>\n",
       "</div>"
      ],
      "text/plain": [
       "       contributor                                            excerpt  \\\n",
       "0        Allen Mao                                            Sandbox   \n",
       "1     Rosna Thomas  Nextflow is a bioinformatics workflow manager ...   \n",
       "2        Allen Mao  Lithology and stratigraphic logs for wells and...   \n",
       "3        Allen Mao  If you give it all of OpenStreetMap and zoom o...   \n",
       "4         Pratheek                                   Text classifiers   \n",
       "...            ...                                                ...   \n",
       "1914     Allen Mao  If you use Detectron in your research or wish ...   \n",
       "1915       Ling Li                                      year = {2016}   \n",
       "1916     Allen Mao  title = {Iterative Visual Reasoning Beyond Con...   \n",
       "1917     Allen Mao  [Kamb1956]Kamb, 1959. Ice Petrofabric Observat...   \n",
       "1918       Ling Li                                      year = {2019}   \n",
       "\n",
       "      extended_installation  \n",
       "0                     False  \n",
       "1                     False  \n",
       "2                     False  \n",
       "3                     False  \n",
       "4                     False  \n",
       "...                     ...  \n",
       "1914                  False  \n",
       "1915                  False  \n",
       "1916                  False  \n",
       "1917                  False  \n",
       "1918                  False  \n",
       "\n",
       "[1919 rows x 3 columns]"
      ]
     },
     "execution_count": 77,
     "metadata": {},
     "output_type": "execute_result"
    }
   ],
   "source": [
    "corpus['extended_installation']"
   ]
  },
  {
   "cell_type": "code",
   "execution_count": 84,
   "metadata": {},
   "outputs": [],
   "source": [
    "corpus['extended_citation'].drop(columns=['Unnamed: 0'],inplace=True)"
   ]
  },
  {
   "cell_type": "code",
   "execution_count": 85,
   "metadata": {},
   "outputs": [
    {
     "data": {
      "text/html": [
       "<div>\n",
       "<style scoped>\n",
       "    .dataframe tbody tr th:only-of-type {\n",
       "        vertical-align: middle;\n",
       "    }\n",
       "\n",
       "    .dataframe tbody tr th {\n",
       "        vertical-align: top;\n",
       "    }\n",
       "\n",
       "    .dataframe thead th {\n",
       "        text-align: right;\n",
       "    }\n",
       "</style>\n",
       "<table border=\"1\" class=\"dataframe\">\n",
       "  <thead>\n",
       "    <tr style=\"text-align: right;\">\n",
       "      <th></th>\n",
       "      <th>contributor</th>\n",
       "      <th>excerpt</th>\n",
       "      <th>extended_citation</th>\n",
       "    </tr>\n",
       "  </thead>\n",
       "  <tbody>\n",
       "    <tr>\n",
       "      <th>0</th>\n",
       "      <td>Allen Mao</td>\n",
       "      <td>This baseline is run on dbnet-2018 challenge d...</td>\n",
       "      <td>False</td>\n",
       "    </tr>\n",
       "    <tr>\n",
       "      <th>1</th>\n",
       "      <td>Allen Mao</td>\n",
       "      <td>Many useful operators, however, do not lend th...</td>\n",
       "      <td>False</td>\n",
       "    </tr>\n",
       "    <tr>\n",
       "      <th>2</th>\n",
       "      <td>Rosna Thomas</td>\n",
       "      <td>*   compile analysis-friendly corpora;</td>\n",
       "      <td>False</td>\n",
       "    </tr>\n",
       "    <tr>\n",
       "      <th>3</th>\n",
       "      <td>Allen Mao</td>\n",
       "      <td>Below we show some example scene graphs along ...</td>\n",
       "      <td>False</td>\n",
       "    </tr>\n",
       "    <tr>\n",
       "      <th>4</th>\n",
       "      <td>Sharad</td>\n",
       "      <td>It aims to be a fully-tested package taking ad...</td>\n",
       "      <td>False</td>\n",
       "    </tr>\n",
       "    <tr>\n",
       "      <th>...</th>\n",
       "      <td>...</td>\n",
       "      <td>...</td>\n",
       "      <td>...</td>\n",
       "    </tr>\n",
       "    <tr>\n",
       "      <th>752</th>\n",
       "      <td>Yi Xie</td>\n",
       "      <td></td>\n",
       "      <td>True</td>\n",
       "    </tr>\n",
       "    <tr>\n",
       "      <th>753</th>\n",
       "      <td>Yi Xie</td>\n",
       "      <td>Deqing Li, Honghui Mei, Yi Shen, Shuang Su, We...</td>\n",
       "      <td>True</td>\n",
       "    </tr>\n",
       "    <tr>\n",
       "      <th>754</th>\n",
       "      <td>Yi Xie</td>\n",
       "      <td>MIT License.</td>\n",
       "      <td>True</td>\n",
       "    </tr>\n",
       "    <tr>\n",
       "      <th>755</th>\n",
       "      <td>Yi Xie</td>\n",
       "      <td>Copyright (c) 2014 Ryzac, Inc.</td>\n",
       "      <td>True</td>\n",
       "    </tr>\n",
       "    <tr>\n",
       "      <th>756</th>\n",
       "      <td>Yi Xie</td>\n",
       "      <td></td>\n",
       "      <td>True</td>\n",
       "    </tr>\n",
       "  </tbody>\n",
       "</table>\n",
       "<p>757 rows × 3 columns</p>\n",
       "</div>"
      ],
      "text/plain": [
       "      contributor                                            excerpt  \\\n",
       "0       Allen Mao  This baseline is run on dbnet-2018 challenge d...   \n",
       "1       Allen Mao  Many useful operators, however, do not lend th...   \n",
       "2    Rosna Thomas             *   compile analysis-friendly corpora;   \n",
       "3       Allen Mao  Below we show some example scene graphs along ...   \n",
       "4          Sharad  It aims to be a fully-tested package taking ad...   \n",
       "..            ...                                                ...   \n",
       "752        Yi Xie                                                      \n",
       "753        Yi Xie  Deqing Li, Honghui Mei, Yi Shen, Shuang Su, We...   \n",
       "754        Yi Xie                                       MIT License.   \n",
       "755        Yi Xie                     Copyright (c) 2014 Ryzac, Inc.   \n",
       "756        Yi Xie                                                      \n",
       "\n",
       "     extended_citation  \n",
       "0                False  \n",
       "1                False  \n",
       "2                False  \n",
       "3                False  \n",
       "4                False  \n",
       "..                 ...  \n",
       "752               True  \n",
       "753               True  \n",
       "754               True  \n",
       "755               True  \n",
       "756               True  \n",
       "\n",
       "[757 rows x 3 columns]"
      ]
     },
     "execution_count": 85,
     "metadata": {},
     "output_type": "execute_result"
    }
   ],
   "source": [
    "corpus['extended_citation']"
   ]
  },
  {
   "cell_type": "code",
   "execution_count": 87,
   "metadata": {},
   "outputs": [],
   "source": [
    "corpus['extended_description'].drop(columns=['Unnamed: 0'],inplace=True)"
   ]
  },
  {
   "cell_type": "code",
   "execution_count": 89,
   "metadata": {},
   "outputs": [
    {
     "data": {
      "text/html": [
       "<div>\n",
       "<style scoped>\n",
       "    .dataframe tbody tr th:only-of-type {\n",
       "        vertical-align: middle;\n",
       "    }\n",
       "\n",
       "    .dataframe tbody tr th {\n",
       "        vertical-align: top;\n",
       "    }\n",
       "\n",
       "    .dataframe thead th {\n",
       "        text-align: right;\n",
       "    }\n",
       "</style>\n",
       "<table border=\"1\" class=\"dataframe\">\n",
       "  <thead>\n",
       "    <tr style=\"text-align: right;\">\n",
       "      <th></th>\n",
       "      <th>contributor</th>\n",
       "      <th>excerpt</th>\n",
       "      <th>extended_description</th>\n",
       "    </tr>\n",
       "  </thead>\n",
       "  <tbody>\n",
       "    <tr>\n",
       "      <th>0</th>\n",
       "      <td>Allen Mao</td>\n",
       "      <td>Puppeteer is a Node library which provides a h...</td>\n",
       "      <td>True</td>\n",
       "    </tr>\n",
       "    <tr>\n",
       "      <th>1</th>\n",
       "      <td>Allen Mao</td>\n",
       "      <td>The major contributors of this repository incl...</td>\n",
       "      <td>True</td>\n",
       "    </tr>\n",
       "    <tr>\n",
       "      <th>2</th>\n",
       "      <td>Allen Mao</td>\n",
       "      <td>Integral Regression is initially described in ...</td>\n",
       "      <td>True</td>\n",
       "    </tr>\n",
       "    <tr>\n",
       "      <th>3</th>\n",
       "      <td>Allen Mao</td>\n",
       "      <td>We build a 3D pose estimation system based mai...</td>\n",
       "      <td>True</td>\n",
       "    </tr>\n",
       "    <tr>\n",
       "      <th>4</th>\n",
       "      <td>Allen Mao</td>\n",
       "      <td>The Integral Regression is also known as soft-...</td>\n",
       "      <td>True</td>\n",
       "    </tr>\n",
       "    <tr>\n",
       "      <th>...</th>\n",
       "      <td>...</td>\n",
       "      <td>...</td>\n",
       "      <td>...</td>\n",
       "    </tr>\n",
       "    <tr>\n",
       "      <th>718</th>\n",
       "      <td>Allen Mao</td>\n",
       "      <td>author    = {Wu, Huikai and Zheng, Shuai and Z...</td>\n",
       "      <td>False</td>\n",
       "    </tr>\n",
       "    <tr>\n",
       "      <th>719</th>\n",
       "      <td>Allen Mao</td>\n",
       "      <td>title = {Spatial Memory for Context Reasoning ...</td>\n",
       "      <td>False</td>\n",
       "    </tr>\n",
       "    <tr>\n",
       "      <th>720</th>\n",
       "      <td>Rosna Thomas</td>\n",
       "      <td>year={2016}</td>\n",
       "      <td>False</td>\n",
       "    </tr>\n",
       "    <tr>\n",
       "      <th>721</th>\n",
       "      <td>Allen Mao</td>\n",
       "      <td>booktitle={arXiv},</td>\n",
       "      <td>False</td>\n",
       "    </tr>\n",
       "    <tr>\n",
       "      <th>722</th>\n",
       "      <td>Allen Mao</td>\n",
       "      <td>booktitle = {International Conference on Machi...</td>\n",
       "      <td>False</td>\n",
       "    </tr>\n",
       "  </tbody>\n",
       "</table>\n",
       "<p>723 rows × 3 columns</p>\n",
       "</div>"
      ],
      "text/plain": [
       "      contributor                                            excerpt  \\\n",
       "0       Allen Mao  Puppeteer is a Node library which provides a h...   \n",
       "1       Allen Mao  The major contributors of this repository incl...   \n",
       "2       Allen Mao  Integral Regression is initially described in ...   \n",
       "3       Allen Mao  We build a 3D pose estimation system based mai...   \n",
       "4       Allen Mao  The Integral Regression is also known as soft-...   \n",
       "..            ...                                                ...   \n",
       "718     Allen Mao  author    = {Wu, Huikai and Zheng, Shuai and Z...   \n",
       "719     Allen Mao  title = {Spatial Memory for Context Reasoning ...   \n",
       "720  Rosna Thomas                                        year={2016}   \n",
       "721     Allen Mao                                 booktitle={arXiv},   \n",
       "722     Allen Mao  booktitle = {International Conference on Machi...   \n",
       "\n",
       "     extended_description  \n",
       "0                    True  \n",
       "1                    True  \n",
       "2                    True  \n",
       "3                    True  \n",
       "4                    True  \n",
       "..                    ...  \n",
       "718                 False  \n",
       "719                 False  \n",
       "720                 False  \n",
       "721                 False  \n",
       "722                 False  \n",
       "\n",
       "[723 rows x 3 columns]"
      ]
     },
     "execution_count": 89,
     "metadata": {},
     "output_type": "execute_result"
    }
   ],
   "source": [
    "corpus['extended_description']"
   ]
  },
  {
   "cell_type": "code",
   "execution_count": 90,
   "metadata": {},
   "outputs": [],
   "source": [
    "corpus['extended_invocation'].drop(columns=['Unnamed: 0'],inplace=True)"
   ]
  },
  {
   "cell_type": "code",
   "execution_count": 91,
   "metadata": {},
   "outputs": [
    {
     "data": {
      "text/html": [
       "<div>\n",
       "<style scoped>\n",
       "    .dataframe tbody tr th:only-of-type {\n",
       "        vertical-align: middle;\n",
       "    }\n",
       "\n",
       "    .dataframe tbody tr th {\n",
       "        vertical-align: top;\n",
       "    }\n",
       "\n",
       "    .dataframe thead th {\n",
       "        text-align: right;\n",
       "    }\n",
       "</style>\n",
       "<table border=\"1\" class=\"dataframe\">\n",
       "  <thead>\n",
       "    <tr style=\"text-align: right;\">\n",
       "      <th></th>\n",
       "      <th>contributor</th>\n",
       "      <th>excerpt</th>\n",
       "      <th>extended_invocation</th>\n",
       "    </tr>\n",
       "  </thead>\n",
       "  <tbody>\n",
       "    <tr>\n",
       "      <th>0</th>\n",
       "      <td>Sharad</td>\n",
       "      <td>lakeFS supports AWS S3 or Google Cloud Storage...</td>\n",
       "      <td>False</td>\n",
       "    </tr>\n",
       "    <tr>\n",
       "      <th>1</th>\n",
       "      <td>Allen Mao</td>\n",
       "      <td>Extract data directly from binary ANSYS v14.5+...</td>\n",
       "      <td>False</td>\n",
       "    </tr>\n",
       "    <tr>\n",
       "      <th>2</th>\n",
       "      <td>Allen Mao</td>\n",
       "      <td>Sleek, intuitive, and powerful front-end frame...</td>\n",
       "      <td>False</td>\n",
       "    </tr>\n",
       "    <tr>\n",
       "      <th>3</th>\n",
       "      <td>Rosna Thomas</td>\n",
       "      <td>Dense Human Pose Estimation In The Wild</td>\n",
       "      <td>False</td>\n",
       "    </tr>\n",
       "    <tr>\n",
       "      <th>4</th>\n",
       "      <td>Allen Mao</td>\n",
       "      <td>Puppeteer is a Node library which provides a h...</td>\n",
       "      <td>False</td>\n",
       "    </tr>\n",
       "    <tr>\n",
       "      <th>...</th>\n",
       "      <td>...</td>\n",
       "      <td>...</td>\n",
       "      <td>...</td>\n",
       "    </tr>\n",
       "    <tr>\n",
       "      <th>2662</th>\n",
       "      <td>Allen Mao</td>\n",
       "      <td>Cite pyGeoPressure as:</td>\n",
       "      <td>False</td>\n",
       "    </tr>\n",
       "    <tr>\n",
       "      <th>2663</th>\n",
       "      <td>Allen Mao</td>\n",
       "      <td>Werthmüller, D., 2017, An open-source full 3D ...</td>\n",
       "      <td>False</td>\n",
       "    </tr>\n",
       "    <tr>\n",
       "      <th>2664</th>\n",
       "      <td>Allen Mao</td>\n",
       "      <td>{ethanlee, jlwu1992, zlin, hongliu}@pku.edu.cn...</td>\n",
       "      <td>False</td>\n",
       "    </tr>\n",
       "    <tr>\n",
       "      <th>2665</th>\n",
       "      <td>Allen Mao</td>\n",
       "      <td>title={Quantized densely connected U-Nets for ...</td>\n",
       "      <td>False</td>\n",
       "    </tr>\n",
       "    <tr>\n",
       "      <th>2666</th>\n",
       "      <td>Allen Mao</td>\n",
       "      <td>author = {Matthew Tesfaldet and Marcus A. Brub...</td>\n",
       "      <td>False</td>\n",
       "    </tr>\n",
       "  </tbody>\n",
       "</table>\n",
       "<p>2667 rows × 3 columns</p>\n",
       "</div>"
      ],
      "text/plain": [
       "       contributor                                            excerpt  \\\n",
       "0           Sharad  lakeFS supports AWS S3 or Google Cloud Storage...   \n",
       "1        Allen Mao  Extract data directly from binary ANSYS v14.5+...   \n",
       "2        Allen Mao  Sleek, intuitive, and powerful front-end frame...   \n",
       "3     Rosna Thomas            Dense Human Pose Estimation In The Wild   \n",
       "4        Allen Mao  Puppeteer is a Node library which provides a h...   \n",
       "...            ...                                                ...   \n",
       "2662     Allen Mao                             Cite pyGeoPressure as:   \n",
       "2663     Allen Mao  Werthmüller, D., 2017, An open-source full 3D ...   \n",
       "2664     Allen Mao  {ethanlee, jlwu1992, zlin, hongliu}@pku.edu.cn...   \n",
       "2665     Allen Mao  title={Quantized densely connected U-Nets for ...   \n",
       "2666     Allen Mao  author = {Matthew Tesfaldet and Marcus A. Brub...   \n",
       "\n",
       "      extended_invocation  \n",
       "0                   False  \n",
       "1                   False  \n",
       "2                   False  \n",
       "3                   False  \n",
       "4                   False  \n",
       "...                   ...  \n",
       "2662                False  \n",
       "2663                False  \n",
       "2664                False  \n",
       "2665                False  \n",
       "2666                False  \n",
       "\n",
       "[2667 rows x 3 columns]"
      ]
     },
     "execution_count": 91,
     "metadata": {},
     "output_type": "execute_result"
    }
   ],
   "source": [
    "corpus['extended_invocation']"
   ]
  },
  {
   "cell_type": "markdown",
   "metadata": {},
   "source": [
    "# Distribution of Data"
   ]
  },
  {
   "cell_type": "markdown",
   "metadata": {},
   "source": [
    "# For Invocation"
   ]
  },
  {
   "cell_type": "code",
   "execution_count": 94,
   "metadata": {},
   "outputs": [
    {
     "data": {
      "text/plain": [
       "True     1524\n",
       "False    1143\n",
       "Name: extended_invocation, dtype: int64"
      ]
     },
     "execution_count": 94,
     "metadata": {},
     "output_type": "execute_result"
    }
   ],
   "source": [
    "corpus['extended_invocation']['extended_invocation'].value_counts()"
   ]
  },
  {
   "cell_type": "markdown",
   "metadata": {},
   "source": [
    "# For Installation"
   ]
  },
  {
   "cell_type": "code",
   "execution_count": 95,
   "metadata": {},
   "outputs": [
    {
     "data": {
      "text/plain": [
       "True     1097\n",
       "False     822\n",
       "Name: extended_installation, dtype: int64"
      ]
     },
     "execution_count": 95,
     "metadata": {},
     "output_type": "execute_result"
    }
   ],
   "source": [
    "corpus['extended_installation']['extended_installation'].value_counts()"
   ]
  },
  {
   "cell_type": "markdown",
   "metadata": {},
   "source": [
    "# For Citation"
   ]
  },
  {
   "cell_type": "code",
   "execution_count": 96,
   "metadata": {},
   "outputs": [
    {
     "data": {
      "text/plain": [
       "True     433\n",
       "False    324\n",
       "Name: extended_citation, dtype: int64"
      ]
     },
     "execution_count": 96,
     "metadata": {},
     "output_type": "execute_result"
    }
   ],
   "source": [
    "corpus['extended_citation']['extended_citation'].value_counts()"
   ]
  },
  {
   "cell_type": "markdown",
   "metadata": {},
   "source": [
    "# For Description"
   ]
  },
  {
   "cell_type": "code",
   "execution_count": 97,
   "metadata": {},
   "outputs": [
    {
     "data": {
      "text/plain": [
       "True     414\n",
       "False    309\n",
       "Name: extended_description, dtype: int64"
      ]
     },
     "execution_count": 97,
     "metadata": {},
     "output_type": "execute_result"
    }
   ],
   "source": [
    "corpus['extended_description']['extended_description'].value_counts()"
   ]
  },
  {
   "cell_type": "markdown",
   "metadata": {},
   "source": [
    "# Bar Plots"
   ]
  },
  {
   "cell_type": "markdown",
   "metadata": {},
   "source": [
    "# Extended Installation"
   ]
  },
  {
   "cell_type": "code",
   "execution_count": 109,
   "metadata": {},
   "outputs": [
    {
     "data": {
      "text/plain": [
       "<matplotlib.axes._subplots.AxesSubplot at 0x7fd7c7070e50>"
      ]
     },
     "execution_count": 109,
     "metadata": {},
     "output_type": "execute_result"
    },
    {
     "data": {
      "image/png": "[encoded data removed]",
      "text/plain": [
       "<Figure size 432x288 with 1 Axes>"
      ]
     },
     "metadata": {
      "needs_background": "light"
     },
     "output_type": "display_data"
    }
   ],
   "source": [
    "corpus['extended_installation']['extended_installation'].value_counts().sort_values().plot(kind = 'bar')"
   ]
  },
  {
   "cell_type": "markdown",
   "metadata": {},
   "source": [
    "# Extended Invocation"
   ]
  },
  {
   "cell_type": "code",
   "execution_count": 112,
   "metadata": {},
   "outputs": [
    {
     "data": {
      "text/plain": [
       "<matplotlib.axes._subplots.AxesSubplot at 0x7fd7c7257610>"
      ]
     },
     "execution_count": 112,
     "metadata": {},
     "output_type": "execute_result"
    },
    {
     "data": {
      "image/png": "[encoded data removed]",
      "text/plain": [
       "<Figure size 432x288 with 1 Axes>"
      ]
     },
     "metadata": {
      "needs_background": "light"
     },
     "output_type": "display_data"
    }
   ],
   "source": [
    "corpus['extended_invocation']['extended_invocation'].value_counts().sort_values().plot(kind = 'bar')"
   ]
  },
  {
   "cell_type": "markdown",
   "metadata": {},
   "source": [
    "# Extended Description"
   ]
  },
  {
   "cell_type": "code",
   "execution_count": 113,
   "metadata": {},
   "outputs": [
    {
     "data": {
      "text/plain": [
       "<matplotlib.axes._subplots.AxesSubplot at 0x7fd7c7322950>"
      ]
     },
     "execution_count": 113,
     "metadata": {},
     "output_type": "execute_result"
    },
    {
     "data": {
      "image/png": "[encoded data removed]",
      "text/plain": [
       "<Figure size 432x288 with 1 Axes>"
      ]
     },
     "metadata": {
      "needs_background": "light"
     },
     "output_type": "display_data"
    }
   ],
   "source": [
    "corpus['extended_description']['extended_description'].value_counts().sort_values().plot(kind = 'bar')"
   ]
  },
  {
   "cell_type": "markdown",
   "metadata": {},
   "source": [
    "# Exteneded Citation"
   ]
  },
  {
   "cell_type": "code",
   "execution_count": 114,
   "metadata": {},
   "outputs": [
    {
     "data": {
      "text/plain": [
       "<matplotlib.axes._subplots.AxesSubplot at 0x7fd7a7421390>"
      ]
     },
     "execution_count": 114,
     "metadata": {},
     "output_type": "execute_result"
    },
    {
     "data": {
      "image/png": "[encoded data removed]",
      "text/plain": [
       "<Figure size 432x288 with 1 Axes>"
      ]
     },
     "metadata": {
      "needs_background": "light"
     },
     "output_type": "display_data"
    }
   ],
   "source": [
    "corpus['extended_citation']['extended_citation'].value_counts().sort_values().plot(kind = 'bar')"
   ]
  },
  {
   "cell_type": "code",
   "execution_count": null,
   "metadata": {},
   "outputs": [],
   "source": []
  }
 ],
 "metadata": {
  "kernelspec": {
   "display_name": "Python 3",
   "language": "python",
   "name": "python3"
  },
  "language_info": {
   "codemirror_mode": {
    "name": "ipython",
    "version": 3
   },
   "file_extension": ".py",
   "mimetype": "text/x-python",
   "name": "python",
   "nbconvert_exporter": "python",
   "pygments_lexer": "ipython3",
   "version": "3.7.6"
  }
 },
 "nbformat": 4,
 "nbformat_minor": 4
}
